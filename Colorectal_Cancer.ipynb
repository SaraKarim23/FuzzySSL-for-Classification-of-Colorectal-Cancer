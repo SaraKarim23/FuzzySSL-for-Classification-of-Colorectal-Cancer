{
  "nbformat": 4,
  "nbformat_minor": 0,
  "metadata": {
    "colab": {
      "name": "Colorectal Cancer.ipynb",
      "provenance": [],
      "collapsed_sections": [],
      "include_colab_link": true
    },
    "kernelspec": {
      "name": "python3",
      "display_name": "Python 3"
    },
    "language_info": {
      "name": "python"
    }
  },
  "cells": [
    {
      "cell_type": "markdown",
      "metadata": {
        "id": "view-in-github",
        "colab_type": "text"
      },
      "source": [
        "<a href=\"https://colab.research.google.com/github/SaraKarim23/FuzzySSL-for-Classification-of-Colorectal-Cancer/blob/main/Colorectal_Cancer.ipynb\" target=\"_parent\"><img src=\"https://colab.research.google.com/assets/colab-badge.svg\" alt=\"Open In Colab\"/></a>"
      ]
    },
    {
      "cell_type": "code",
      "metadata": {
        "id": "t8wlGzMDiY9W"
      },
      "source": [
        "import pandas as pd\n",
        "import numpy as np\n",
        "import seaborn as sns\n",
        "import matplotlib.pyplot as plt\n",
        "from sklearn.ensemble import AdaBoostClassifier\n",
        "from sklearn.tree import DecisionTreeClassifier\n",
        "from sklearn.preprocessing import LabelEncoder\n",
        "from sklearn import metrics\n",
        "from sklearn.model_selection import train_test_split\n",
        "from sklearn.metrics import classification_report, confusion_matrix, f1_score\n",
        "from sklearn.metrics import accuracy_score\n",
        "from sklearn.linear_model import LogisticRegression\n",
        "from sklearn.naive_bayes import GaussianNB\n",
        "from sklearn.neighbors import KNeighborsClassifier\n",
        "from sklearn.semi_supervised import LabelPropagation\n",
        "from sklearn.svm import SVC\n",
        "from sklearn import preprocessing\n",
        "from math import log\n",
        "from sklearn.metrics import plot_confusion_matrix"
      ],
      "execution_count": null,
      "outputs": []
    },
    {
      "cell_type": "code",
      "metadata": {
        "id": "J4KrogTHLn89"
      },
      "source": [
        "import matplotlib.pyplot as plt\n",
        "import seaborn as sns\n",
        "%matplotlib inline"
      ],
      "execution_count": null,
      "outputs": []
    },
    {
      "cell_type": "code",
      "metadata": {
        "id": "f9AUV_0Yh0-6"
      },
      "source": [
        "from keras.models import Sequential\n",
        "from keras.layers import Dense\n",
        "from sklearn import preprocessing\n",
        "import numpy as np\n",
        "from math import log"
      ],
      "execution_count": null,
      "outputs": []
    },
    {
      "cell_type": "code",
      "metadata": {
        "colab": {
          "base_uri": "https://localhost:8080/"
        },
        "id": "A4iaJyfEh6Im",
        "outputId": "ecc45701-6098-456a-b639-bf25a970a5b2"
      },
      "source": [
        "from google.colab import drive\n",
        "drive.mount('/content/drive')"
      ],
      "execution_count": null,
      "outputs": [
        {
          "output_type": "stream",
          "name": "stdout",
          "text": [
            "Mounted at /content/drive\n"
          ]
        }
      ]
    },
    {
      "cell_type": "code",
      "metadata": {
        "id": "ct54Oo0eNLQG"
      },
      "source": [
        "df = pd.read_csv('/content/drive/MyDrive/MIET/Colorectal Cancer Patient Data.csv',na_values='?')\n",
        "#df2 = pd.read_csv('/content/drive/MyDrive/Thesis/Dataset/ASD_dataset/ASD_2.csv',na_values='?')"
      ],
      "execution_count": null,
      "outputs": []
    },
    {
      "cell_type": "code",
      "metadata": {
        "colab": {
          "base_uri": "https://localhost:8080/",
          "height": 206
        },
        "id": "4970ig_JNZkC",
        "outputId": "f9b7d9da-08a1-4222-8abb-0624f5a9cae9"
      },
      "source": [
        "df.head()"
      ],
      "execution_count": null,
      "outputs": [
        {
          "output_type": "execute_result",
          "data": {
            "text/plain": [
              "   Unnamed: 0     ID_REF  Age (in years) Dukes Stage  Gender Location  \\\n",
              "0           0  GSM877126              62           A    Male     Left   \n",
              "1           1  GSM877127              77           B    Male     Left   \n",
              "2           2  GSM877128              66           C  Female     Left   \n",
              "3           3  GSM877129              72           D  Female     Left   \n",
              "4           4  GSM877130              75           C    Male     Left   \n",
              "\n",
              "   DFS (in months)  DFS event  Adj_Radio  Adj_Chem  \n",
              "0              108          0          1         0  \n",
              "1               40          1          1         0  \n",
              "2               49          0          1         0  \n",
              "3               45          0          1         1  \n",
              "4               40          0          0         1  "
            ],
            "text/html": [
              "\n",
              "  <div id=\"df-5d36fe1a-02d4-4c33-a9cc-9e82a38cff33\">\n",
              "    <div class=\"colab-df-container\">\n",
              "      <div>\n",
              "<style scoped>\n",
              "    .dataframe tbody tr th:only-of-type {\n",
              "        vertical-align: middle;\n",
              "    }\n",
              "\n",
              "    .dataframe tbody tr th {\n",
              "        vertical-align: top;\n",
              "    }\n",
              "\n",
              "    .dataframe thead th {\n",
              "        text-align: right;\n",
              "    }\n",
              "</style>\n",
              "<table border=\"1\" class=\"dataframe\">\n",
              "  <thead>\n",
              "    <tr style=\"text-align: right;\">\n",
              "      <th></th>\n",
              "      <th>Unnamed: 0</th>\n",
              "      <th>ID_REF</th>\n",
              "      <th>Age (in years)</th>\n",
              "      <th>Dukes Stage</th>\n",
              "      <th>Gender</th>\n",
              "      <th>Location</th>\n",
              "      <th>DFS (in months)</th>\n",
              "      <th>DFS event</th>\n",
              "      <th>Adj_Radio</th>\n",
              "      <th>Adj_Chem</th>\n",
              "    </tr>\n",
              "  </thead>\n",
              "  <tbody>\n",
              "    <tr>\n",
              "      <th>0</th>\n",
              "      <td>0</td>\n",
              "      <td>GSM877126</td>\n",
              "      <td>62</td>\n",
              "      <td>A</td>\n",
              "      <td>Male</td>\n",
              "      <td>Left</td>\n",
              "      <td>108</td>\n",
              "      <td>0</td>\n",
              "      <td>1</td>\n",
              "      <td>0</td>\n",
              "    </tr>\n",
              "    <tr>\n",
              "      <th>1</th>\n",
              "      <td>1</td>\n",
              "      <td>GSM877127</td>\n",
              "      <td>77</td>\n",
              "      <td>B</td>\n",
              "      <td>Male</td>\n",
              "      <td>Left</td>\n",
              "      <td>40</td>\n",
              "      <td>1</td>\n",
              "      <td>1</td>\n",
              "      <td>0</td>\n",
              "    </tr>\n",
              "    <tr>\n",
              "      <th>2</th>\n",
              "      <td>2</td>\n",
              "      <td>GSM877128</td>\n",
              "      <td>66</td>\n",
              "      <td>C</td>\n",
              "      <td>Female</td>\n",
              "      <td>Left</td>\n",
              "      <td>49</td>\n",
              "      <td>0</td>\n",
              "      <td>1</td>\n",
              "      <td>0</td>\n",
              "    </tr>\n",
              "    <tr>\n",
              "      <th>3</th>\n",
              "      <td>3</td>\n",
              "      <td>GSM877129</td>\n",
              "      <td>72</td>\n",
              "      <td>D</td>\n",
              "      <td>Female</td>\n",
              "      <td>Left</td>\n",
              "      <td>45</td>\n",
              "      <td>0</td>\n",
              "      <td>1</td>\n",
              "      <td>1</td>\n",
              "    </tr>\n",
              "    <tr>\n",
              "      <th>4</th>\n",
              "      <td>4</td>\n",
              "      <td>GSM877130</td>\n",
              "      <td>75</td>\n",
              "      <td>C</td>\n",
              "      <td>Male</td>\n",
              "      <td>Left</td>\n",
              "      <td>40</td>\n",
              "      <td>0</td>\n",
              "      <td>0</td>\n",
              "      <td>1</td>\n",
              "    </tr>\n",
              "  </tbody>\n",
              "</table>\n",
              "</div>\n",
              "      <button class=\"colab-df-convert\" onclick=\"convertToInteractive('df-5d36fe1a-02d4-4c33-a9cc-9e82a38cff33')\"\n",
              "              title=\"Convert this dataframe to an interactive table.\"\n",
              "              style=\"display:none;\">\n",
              "        \n",
              "  <svg xmlns=\"http://www.w3.org/2000/svg\" height=\"24px\"viewBox=\"0 0 24 24\"\n",
              "       width=\"24px\">\n",
              "    <path d=\"M0 0h24v24H0V0z\" fill=\"none\"/>\n",
              "    <path d=\"M18.56 5.44l.94 2.06.94-2.06 2.06-.94-2.06-.94-.94-2.06-.94 2.06-2.06.94zm-11 1L8.5 8.5l.94-2.06 2.06-.94-2.06-.94L8.5 2.5l-.94 2.06-2.06.94zm10 10l.94 2.06.94-2.06 2.06-.94-2.06-.94-.94-2.06-.94 2.06-2.06.94z\"/><path d=\"M17.41 7.96l-1.37-1.37c-.4-.4-.92-.59-1.43-.59-.52 0-1.04.2-1.43.59L10.3 9.45l-7.72 7.72c-.78.78-.78 2.05 0 2.83L4 21.41c.39.39.9.59 1.41.59.51 0 1.02-.2 1.41-.59l7.78-7.78 2.81-2.81c.8-.78.8-2.07 0-2.86zM5.41 20L4 18.59l7.72-7.72 1.47 1.35L5.41 20z\"/>\n",
              "  </svg>\n",
              "      </button>\n",
              "      \n",
              "  <style>\n",
              "    .colab-df-container {\n",
              "      display:flex;\n",
              "      flex-wrap:wrap;\n",
              "      gap: 12px;\n",
              "    }\n",
              "\n",
              "    .colab-df-convert {\n",
              "      background-color: #E8F0FE;\n",
              "      border: none;\n",
              "      border-radius: 50%;\n",
              "      cursor: pointer;\n",
              "      display: none;\n",
              "      fill: #1967D2;\n",
              "      height: 32px;\n",
              "      padding: 0 0 0 0;\n",
              "      width: 32px;\n",
              "    }\n",
              "\n",
              "    .colab-df-convert:hover {\n",
              "      background-color: #E2EBFA;\n",
              "      box-shadow: 0px 1px 2px rgba(60, 64, 67, 0.3), 0px 1px 3px 1px rgba(60, 64, 67, 0.15);\n",
              "      fill: #174EA6;\n",
              "    }\n",
              "\n",
              "    [theme=dark] .colab-df-convert {\n",
              "      background-color: #3B4455;\n",
              "      fill: #D2E3FC;\n",
              "    }\n",
              "\n",
              "    [theme=dark] .colab-df-convert:hover {\n",
              "      background-color: #434B5C;\n",
              "      box-shadow: 0px 1px 3px 1px rgba(0, 0, 0, 0.15);\n",
              "      filter: drop-shadow(0px 1px 2px rgba(0, 0, 0, 0.3));\n",
              "      fill: #FFFFFF;\n",
              "    }\n",
              "  </style>\n",
              "\n",
              "      <script>\n",
              "        const buttonEl =\n",
              "          document.querySelector('#df-5d36fe1a-02d4-4c33-a9cc-9e82a38cff33 button.colab-df-convert');\n",
              "        buttonEl.style.display =\n",
              "          google.colab.kernel.accessAllowed ? 'block' : 'none';\n",
              "\n",
              "        async function convertToInteractive(key) {\n",
              "          const element = document.querySelector('#df-5d36fe1a-02d4-4c33-a9cc-9e82a38cff33');\n",
              "          const dataTable =\n",
              "            await google.colab.kernel.invokeFunction('convertToInteractive',\n",
              "                                                     [key], {});\n",
              "          if (!dataTable) return;\n",
              "\n",
              "          const docLinkHtml = 'Like what you see? Visit the ' +\n",
              "            '<a target=\"_blank\" href=https://colab.research.google.com/notebooks/data_table.ipynb>data table notebook</a>'\n",
              "            + ' to learn more about interactive tables.';\n",
              "          element.innerHTML = '';\n",
              "          dataTable['output_type'] = 'display_data';\n",
              "          await google.colab.output.renderOutput(dataTable, element);\n",
              "          const docLink = document.createElement('div');\n",
              "          docLink.innerHTML = docLinkHtml;\n",
              "          element.appendChild(docLink);\n",
              "        }\n",
              "      </script>\n",
              "    </div>\n",
              "  </div>\n",
              "  "
            ]
          },
          "metadata": {},
          "execution_count": 6
        }
      ]
    },
    {
      "cell_type": "code",
      "metadata": {
        "id": "uOIIFGczNfIJ"
      },
      "source": [
        "df.info()"
      ],
      "execution_count": null,
      "outputs": []
    },
    {
      "cell_type": "code",
      "metadata": {
        "id": "sCAmklEwlCU8"
      },
      "source": [
        "import numpy as np\n",
        "import pandas as pd\n",
        "import seaborn as sns\n",
        "import matplotlib.pyplot as plt"
      ],
      "execution_count": null,
      "outputs": []
    },
    {
      "cell_type": "code",
      "metadata": {
        "colab": {
          "base_uri": "https://localhost:8080/",
          "height": 300
        },
        "id": "YJ_CZ2P7lQas",
        "outputId": "07a72b37-7127-4cdb-8cd3-43de6198cd5d"
      },
      "source": [
        "df.describe()"
      ],
      "execution_count": null,
      "outputs": [
        {
          "output_type": "execute_result",
          "data": {
            "text/plain": [
              "       Unnamed: 0  Age (in years)  DFS (in months)  DFS event  Adj_Radio  \\\n",
              "count   62.000000       62.000000        62.000000  62.000000  62.000000   \n",
              "mean    30.500000       61.112903        41.774194   0.596774   0.532258   \n",
              "std     18.041619        9.581582        26.288076   0.494550   0.503032   \n",
              "min      0.000000       28.000000         4.000000   0.000000   0.000000   \n",
              "25%     15.250000       56.250000        19.500000   0.000000   0.000000   \n",
              "50%     30.500000       62.000000        38.000000   1.000000   1.000000   \n",
              "75%     45.750000       67.000000        57.500000   1.000000   1.000000   \n",
              "max     61.000000       78.000000       108.000000   1.000000   1.000000   \n",
              "\n",
              "        Adj_Chem  \n",
              "count  62.000000  \n",
              "mean    0.483871  \n",
              "std     0.503819  \n",
              "min     0.000000  \n",
              "25%     0.000000  \n",
              "50%     0.000000  \n",
              "75%     1.000000  \n",
              "max     1.000000  "
            ],
            "text/html": [
              "\n",
              "  <div id=\"df-ef8c4dd7-19c8-4115-8dad-7b249284bc91\">\n",
              "    <div class=\"colab-df-container\">\n",
              "      <div>\n",
              "<style scoped>\n",
              "    .dataframe tbody tr th:only-of-type {\n",
              "        vertical-align: middle;\n",
              "    }\n",
              "\n",
              "    .dataframe tbody tr th {\n",
              "        vertical-align: top;\n",
              "    }\n",
              "\n",
              "    .dataframe thead th {\n",
              "        text-align: right;\n",
              "    }\n",
              "</style>\n",
              "<table border=\"1\" class=\"dataframe\">\n",
              "  <thead>\n",
              "    <tr style=\"text-align: right;\">\n",
              "      <th></th>\n",
              "      <th>Unnamed: 0</th>\n",
              "      <th>Age (in years)</th>\n",
              "      <th>DFS (in months)</th>\n",
              "      <th>DFS event</th>\n",
              "      <th>Adj_Radio</th>\n",
              "      <th>Adj_Chem</th>\n",
              "    </tr>\n",
              "  </thead>\n",
              "  <tbody>\n",
              "    <tr>\n",
              "      <th>count</th>\n",
              "      <td>62.000000</td>\n",
              "      <td>62.000000</td>\n",
              "      <td>62.000000</td>\n",
              "      <td>62.000000</td>\n",
              "      <td>62.000000</td>\n",
              "      <td>62.000000</td>\n",
              "    </tr>\n",
              "    <tr>\n",
              "      <th>mean</th>\n",
              "      <td>30.500000</td>\n",
              "      <td>61.112903</td>\n",
              "      <td>41.774194</td>\n",
              "      <td>0.596774</td>\n",
              "      <td>0.532258</td>\n",
              "      <td>0.483871</td>\n",
              "    </tr>\n",
              "    <tr>\n",
              "      <th>std</th>\n",
              "      <td>18.041619</td>\n",
              "      <td>9.581582</td>\n",
              "      <td>26.288076</td>\n",
              "      <td>0.494550</td>\n",
              "      <td>0.503032</td>\n",
              "      <td>0.503819</td>\n",
              "    </tr>\n",
              "    <tr>\n",
              "      <th>min</th>\n",
              "      <td>0.000000</td>\n",
              "      <td>28.000000</td>\n",
              "      <td>4.000000</td>\n",
              "      <td>0.000000</td>\n",
              "      <td>0.000000</td>\n",
              "      <td>0.000000</td>\n",
              "    </tr>\n",
              "    <tr>\n",
              "      <th>25%</th>\n",
              "      <td>15.250000</td>\n",
              "      <td>56.250000</td>\n",
              "      <td>19.500000</td>\n",
              "      <td>0.000000</td>\n",
              "      <td>0.000000</td>\n",
              "      <td>0.000000</td>\n",
              "    </tr>\n",
              "    <tr>\n",
              "      <th>50%</th>\n",
              "      <td>30.500000</td>\n",
              "      <td>62.000000</td>\n",
              "      <td>38.000000</td>\n",
              "      <td>1.000000</td>\n",
              "      <td>1.000000</td>\n",
              "      <td>0.000000</td>\n",
              "    </tr>\n",
              "    <tr>\n",
              "      <th>75%</th>\n",
              "      <td>45.750000</td>\n",
              "      <td>67.000000</td>\n",
              "      <td>57.500000</td>\n",
              "      <td>1.000000</td>\n",
              "      <td>1.000000</td>\n",
              "      <td>1.000000</td>\n",
              "    </tr>\n",
              "    <tr>\n",
              "      <th>max</th>\n",
              "      <td>61.000000</td>\n",
              "      <td>78.000000</td>\n",
              "      <td>108.000000</td>\n",
              "      <td>1.000000</td>\n",
              "      <td>1.000000</td>\n",
              "      <td>1.000000</td>\n",
              "    </tr>\n",
              "  </tbody>\n",
              "</table>\n",
              "</div>\n",
              "      <button class=\"colab-df-convert\" onclick=\"convertToInteractive('df-ef8c4dd7-19c8-4115-8dad-7b249284bc91')\"\n",
              "              title=\"Convert this dataframe to an interactive table.\"\n",
              "              style=\"display:none;\">\n",
              "        \n",
              "  <svg xmlns=\"http://www.w3.org/2000/svg\" height=\"24px\"viewBox=\"0 0 24 24\"\n",
              "       width=\"24px\">\n",
              "    <path d=\"M0 0h24v24H0V0z\" fill=\"none\"/>\n",
              "    <path d=\"M18.56 5.44l.94 2.06.94-2.06 2.06-.94-2.06-.94-.94-2.06-.94 2.06-2.06.94zm-11 1L8.5 8.5l.94-2.06 2.06-.94-2.06-.94L8.5 2.5l-.94 2.06-2.06.94zm10 10l.94 2.06.94-2.06 2.06-.94-2.06-.94-.94-2.06-.94 2.06-2.06.94z\"/><path d=\"M17.41 7.96l-1.37-1.37c-.4-.4-.92-.59-1.43-.59-.52 0-1.04.2-1.43.59L10.3 9.45l-7.72 7.72c-.78.78-.78 2.05 0 2.83L4 21.41c.39.39.9.59 1.41.59.51 0 1.02-.2 1.41-.59l7.78-7.78 2.81-2.81c.8-.78.8-2.07 0-2.86zM5.41 20L4 18.59l7.72-7.72 1.47 1.35L5.41 20z\"/>\n",
              "  </svg>\n",
              "      </button>\n",
              "      \n",
              "  <style>\n",
              "    .colab-df-container {\n",
              "      display:flex;\n",
              "      flex-wrap:wrap;\n",
              "      gap: 12px;\n",
              "    }\n",
              "\n",
              "    .colab-df-convert {\n",
              "      background-color: #E8F0FE;\n",
              "      border: none;\n",
              "      border-radius: 50%;\n",
              "      cursor: pointer;\n",
              "      display: none;\n",
              "      fill: #1967D2;\n",
              "      height: 32px;\n",
              "      padding: 0 0 0 0;\n",
              "      width: 32px;\n",
              "    }\n",
              "\n",
              "    .colab-df-convert:hover {\n",
              "      background-color: #E2EBFA;\n",
              "      box-shadow: 0px 1px 2px rgba(60, 64, 67, 0.3), 0px 1px 3px 1px rgba(60, 64, 67, 0.15);\n",
              "      fill: #174EA6;\n",
              "    }\n",
              "\n",
              "    [theme=dark] .colab-df-convert {\n",
              "      background-color: #3B4455;\n",
              "      fill: #D2E3FC;\n",
              "    }\n",
              "\n",
              "    [theme=dark] .colab-df-convert:hover {\n",
              "      background-color: #434B5C;\n",
              "      box-shadow: 0px 1px 3px 1px rgba(0, 0, 0, 0.15);\n",
              "      filter: drop-shadow(0px 1px 2px rgba(0, 0, 0, 0.3));\n",
              "      fill: #FFFFFF;\n",
              "    }\n",
              "  </style>\n",
              "\n",
              "      <script>\n",
              "        const buttonEl =\n",
              "          document.querySelector('#df-ef8c4dd7-19c8-4115-8dad-7b249284bc91 button.colab-df-convert');\n",
              "        buttonEl.style.display =\n",
              "          google.colab.kernel.accessAllowed ? 'block' : 'none';\n",
              "\n",
              "        async function convertToInteractive(key) {\n",
              "          const element = document.querySelector('#df-ef8c4dd7-19c8-4115-8dad-7b249284bc91');\n",
              "          const dataTable =\n",
              "            await google.colab.kernel.invokeFunction('convertToInteractive',\n",
              "                                                     [key], {});\n",
              "          if (!dataTable) return;\n",
              "\n",
              "          const docLinkHtml = 'Like what you see? Visit the ' +\n",
              "            '<a target=\"_blank\" href=https://colab.research.google.com/notebooks/data_table.ipynb>data table notebook</a>'\n",
              "            + ' to learn more about interactive tables.';\n",
              "          element.innerHTML = '';\n",
              "          dataTable['output_type'] = 'display_data';\n",
              "          await google.colab.output.renderOutput(dataTable, element);\n",
              "          const docLink = document.createElement('div');\n",
              "          docLink.innerHTML = docLinkHtml;\n",
              "          element.appendChild(docLink);\n",
              "        }\n",
              "      </script>\n",
              "    </div>\n",
              "  </div>\n",
              "  "
            ]
          },
          "metadata": {},
          "execution_count": 8
        }
      ]
    },
    {
      "cell_type": "code",
      "metadata": {
        "colab": {
          "base_uri": "https://localhost:8080/",
          "height": 561
        },
        "id": "6_UUkpx-lVG4",
        "outputId": "939a8dfa-9223-4bda-ee00-a228394cc4ed"
      },
      "source": [
        "## Checking correlation between the features\n",
        "plt.figure(figsize=(12, 9))\n",
        "corr = df.corr()\n",
        "sns.heatmap(corr,annot = True)"
      ],
      "execution_count": null,
      "outputs": [
        {
          "output_type": "execute_result",
          "data": {
            "text/plain": [
              "<matplotlib.axes._subplots.AxesSubplot at 0x7f49f858c190>"
            ]
          },
          "metadata": {},
          "execution_count": 9
        },
        {
          "output_type": "display_data",
          "data": {
            "text/plain": [
              "<Figure size 864x648 with 2 Axes>"
            ],
            "image/png": "[encoded data removed]"
          },
          "metadata": {
            "needs_background": "light"
          }
        }
      ]
    },
    {
      "cell_type": "code",
      "metadata": {
        "id": "QFKh7GKclc6t"
      },
      "source": [
        "df = df.drop(['ID_REF','Dukes Stage'],axis = 1)"
      ],
      "execution_count": null,
      "outputs": []
    },
    {
      "cell_type": "code",
      "metadata": {
        "colab": {
          "base_uri": "https://localhost:8080/",
          "height": 206
        },
        "id": "Ov0A0Uhll0TY",
        "outputId": "b7319e78-5128-4186-f42b-0e0a6c652ac2"
      },
      "source": [
        "df.head()"
      ],
      "execution_count": null,
      "outputs": [
        {
          "output_type": "execute_result",
          "data": {
            "text/plain": [
              "   Unnamed: 0     ID_REF  Age (in years) Dukes Stage  Gender Location  \\\n",
              "0           0  GSM877126              62           A    Male     Left   \n",
              "1           1  GSM877127              77           B    Male     Left   \n",
              "2           2  GSM877128              66           C  Female     Left   \n",
              "3           3  GSM877129              72           D  Female     Left   \n",
              "4           4  GSM877130              75           C    Male     Left   \n",
              "\n",
              "   DFS (in months)  DFS event  Adj_Radio  Adj_Chem  \n",
              "0              108          0          1         0  \n",
              "1               40          1          1         0  \n",
              "2               49          0          1         0  \n",
              "3               45          0          1         1  \n",
              "4               40          0          0         1  "
            ],
            "text/html": [
              "\n",
              "  <div id=\"df-3d54e4e6-6f55-4266-a191-ff7c2b512530\">\n",
              "    <div class=\"colab-df-container\">\n",
              "      <div>\n",
              "<style scoped>\n",
              "    .dataframe tbody tr th:only-of-type {\n",
              "        vertical-align: middle;\n",
              "    }\n",
              "\n",
              "    .dataframe tbody tr th {\n",
              "        vertical-align: top;\n",
              "    }\n",
              "\n",
              "    .dataframe thead th {\n",
              "        text-align: right;\n",
              "    }\n",
              "</style>\n",
              "<table border=\"1\" class=\"dataframe\">\n",
              "  <thead>\n",
              "    <tr style=\"text-align: right;\">\n",
              "      <th></th>\n",
              "      <th>Unnamed: 0</th>\n",
              "      <th>ID_REF</th>\n",
              "      <th>Age (in years)</th>\n",
              "      <th>Dukes Stage</th>\n",
              "      <th>Gender</th>\n",
              "      <th>Location</th>\n",
              "      <th>DFS (in months)</th>\n",
              "      <th>DFS event</th>\n",
              "      <th>Adj_Radio</th>\n",
              "      <th>Adj_Chem</th>\n",
              "    </tr>\n",
              "  </thead>\n",
              "  <tbody>\n",
              "    <tr>\n",
              "      <th>0</th>\n",
              "      <td>0</td>\n",
              "      <td>GSM877126</td>\n",
              "      <td>62</td>\n",
              "      <td>A</td>\n",
              "      <td>Male</td>\n",
              "      <td>Left</td>\n",
              "      <td>108</td>\n",
              "      <td>0</td>\n",
              "      <td>1</td>\n",
              "      <td>0</td>\n",
              "    </tr>\n",
              "    <tr>\n",
              "      <th>1</th>\n",
              "      <td>1</td>\n",
              "      <td>GSM877127</td>\n",
              "      <td>77</td>\n",
              "      <td>B</td>\n",
              "      <td>Male</td>\n",
              "      <td>Left</td>\n",
              "      <td>40</td>\n",
              "      <td>1</td>\n",
              "      <td>1</td>\n",
              "      <td>0</td>\n",
              "    </tr>\n",
              "    <tr>\n",
              "      <th>2</th>\n",
              "      <td>2</td>\n",
              "      <td>GSM877128</td>\n",
              "      <td>66</td>\n",
              "      <td>C</td>\n",
              "      <td>Female</td>\n",
              "      <td>Left</td>\n",
              "      <td>49</td>\n",
              "      <td>0</td>\n",
              "      <td>1</td>\n",
              "      <td>0</td>\n",
              "    </tr>\n",
              "    <tr>\n",
              "      <th>3</th>\n",
              "      <td>3</td>\n",
              "      <td>GSM877129</td>\n",
              "      <td>72</td>\n",
              "      <td>D</td>\n",
              "      <td>Female</td>\n",
              "      <td>Left</td>\n",
              "      <td>45</td>\n",
              "      <td>0</td>\n",
              "      <td>1</td>\n",
              "      <td>1</td>\n",
              "    </tr>\n",
              "    <tr>\n",
              "      <th>4</th>\n",
              "      <td>4</td>\n",
              "      <td>GSM877130</td>\n",
              "      <td>75</td>\n",
              "      <td>C</td>\n",
              "      <td>Male</td>\n",
              "      <td>Left</td>\n",
              "      <td>40</td>\n",
              "      <td>0</td>\n",
              "      <td>0</td>\n",
              "      <td>1</td>\n",
              "    </tr>\n",
              "  </tbody>\n",
              "</table>\n",
              "</div>\n",
              "      <button class=\"colab-df-convert\" onclick=\"convertToInteractive('df-3d54e4e6-6f55-4266-a191-ff7c2b512530')\"\n",
              "              title=\"Convert this dataframe to an interactive table.\"\n",
              "              style=\"display:none;\">\n",
              "        \n",
              "  <svg xmlns=\"http://www.w3.org/2000/svg\" height=\"24px\"viewBox=\"0 0 24 24\"\n",
              "       width=\"24px\">\n",
              "    <path d=\"M0 0h24v24H0V0z\" fill=\"none\"/>\n",
              "    <path d=\"M18.56 5.44l.94 2.06.94-2.06 2.06-.94-2.06-.94-.94-2.06-.94 2.06-2.06.94zm-11 1L8.5 8.5l.94-2.06 2.06-.94-2.06-.94L8.5 2.5l-.94 2.06-2.06.94zm10 10l.94 2.06.94-2.06 2.06-.94-2.06-.94-.94-2.06-.94 2.06-2.06.94z\"/><path d=\"M17.41 7.96l-1.37-1.37c-.4-.4-.92-.59-1.43-.59-.52 0-1.04.2-1.43.59L10.3 9.45l-7.72 7.72c-.78.78-.78 2.05 0 2.83L4 21.41c.39.39.9.59 1.41.59.51 0 1.02-.2 1.41-.59l7.78-7.78 2.81-2.81c.8-.78.8-2.07 0-2.86zM5.41 20L4 18.59l7.72-7.72 1.47 1.35L5.41 20z\"/>\n",
              "  </svg>\n",
              "      </button>\n",
              "      \n",
              "  <style>\n",
              "    .colab-df-container {\n",
              "      display:flex;\n",
              "      flex-wrap:wrap;\n",
              "      gap: 12px;\n",
              "    }\n",
              "\n",
              "    .colab-df-convert {\n",
              "      background-color: #E8F0FE;\n",
              "      border: none;\n",
              "      border-radius: 50%;\n",
              "      cursor: pointer;\n",
              "      display: none;\n",
              "      fill: #1967D2;\n",
              "      height: 32px;\n",
              "      padding: 0 0 0 0;\n",
              "      width: 32px;\n",
              "    }\n",
              "\n",
              "    .colab-df-convert:hover {\n",
              "      background-color: #E2EBFA;\n",
              "      box-shadow: 0px 1px 2px rgba(60, 64, 67, 0.3), 0px 1px 3px 1px rgba(60, 64, 67, 0.15);\n",
              "      fill: #174EA6;\n",
              "    }\n",
              "\n",
              "    [theme=dark] .colab-df-convert {\n",
              "      background-color: #3B4455;\n",
              "      fill: #D2E3FC;\n",
              "    }\n",
              "\n",
              "    [theme=dark] .colab-df-convert:hover {\n",
              "      background-color: #434B5C;\n",
              "      box-shadow: 0px 1px 3px 1px rgba(0, 0, 0, 0.15);\n",
              "      filter: drop-shadow(0px 1px 2px rgba(0, 0, 0, 0.3));\n",
              "      fill: #FFFFFF;\n",
              "    }\n",
              "  </style>\n",
              "\n",
              "      <script>\n",
              "        const buttonEl =\n",
              "          document.querySelector('#df-3d54e4e6-6f55-4266-a191-ff7c2b512530 button.colab-df-convert');\n",
              "        buttonEl.style.display =\n",
              "          google.colab.kernel.accessAllowed ? 'block' : 'none';\n",
              "\n",
              "        async function convertToInteractive(key) {\n",
              "          const element = document.querySelector('#df-3d54e4e6-6f55-4266-a191-ff7c2b512530');\n",
              "          const dataTable =\n",
              "            await google.colab.kernel.invokeFunction('convertToInteractive',\n",
              "                                                     [key], {});\n",
              "          if (!dataTable) return;\n",
              "\n",
              "          const docLinkHtml = 'Like what you see? Visit the ' +\n",
              "            '<a target=\"_blank\" href=https://colab.research.google.com/notebooks/data_table.ipynb>data table notebook</a>'\n",
              "            + ' to learn more about interactive tables.';\n",
              "          element.innerHTML = '';\n",
              "          dataTable['output_type'] = 'display_data';\n",
              "          await google.colab.output.renderOutput(dataTable, element);\n",
              "          const docLink = document.createElement('div');\n",
              "          docLink.innerHTML = docLinkHtml;\n",
              "          element.appendChild(docLink);\n",
              "        }\n",
              "      </script>\n",
              "    </div>\n",
              "  </div>\n",
              "  "
            ]
          },
          "metadata": {},
          "execution_count": 13
        }
      ]
    },
    {
      "cell_type": "code",
      "metadata": {
        "colab": {
          "base_uri": "https://localhost:8080/"
        },
        "id": "70jXirObwi9e",
        "outputId": "67e612b0-7df2-40f2-ef71-d1be13213b85"
      },
      "source": [
        "df.columns"
      ],
      "execution_count": null,
      "outputs": [
        {
          "output_type": "execute_result",
          "data": {
            "text/plain": [
              "Index(['Unnamed: 0', 'ID_REF', 'Age (in years)', 'Dukes Stage', 'Gender',\n",
              "       'Location', 'DFS (in months)', 'DFS event', 'Adj_Radio', 'Adj_Chem'],\n",
              "      dtype='object')"
            ]
          },
          "metadata": {},
          "execution_count": 14
        }
      ]
    },
    {
      "cell_type": "code",
      "metadata": {
        "colab": {
          "base_uri": "https://localhost:8080/"
        },
        "id": "bnHxhVsYl6bU",
        "outputId": "1097fea9-f236-4fb1-f070-34141df76c4d"
      },
      "source": [
        "print(df.dtypes)\n",
        "total = len(df.index)\n",
        "positive = len(df[df['Dukes Stage']==\"Yes\"])\n",
        "negative = len(df[df['Dukes Stage']==\"No\"])\n",
        "\n",
        "print (\"Total number of records: {}\".format(total))\n",
        "print( \"Total number of positive cases:{}\".format(positive))\n",
        "print( \"Total number of negative cases:{}\".format(negative))"
      ],
      "execution_count": null,
      "outputs": [
        {
          "output_type": "stream",
          "name": "stdout",
          "text": [
            "Unnamed: 0          int64\n",
            "ID_REF             object\n",
            "Age (in years)      int64\n",
            "Dukes Stage        object\n",
            "Gender             object\n",
            "Location           object\n",
            "DFS (in months)     int64\n",
            "DFS event           int64\n",
            "Adj_Radio           int64\n",
            "Adj_Chem            int64\n",
            "dtype: object\n",
            "Total number of records: 62\n",
            "Total number of positive cases:0\n",
            "Total number of negative cases:0\n"
          ]
        }
      ]
    },
    {
      "cell_type": "code",
      "metadata": {
        "id": "pdSnRVQ_wvON"
      },
      "source": [
        "X = df.drop(\"Outcome\",axis=1)\n",
        "y= df[\"Outcome\"] #We will predict Outcome(diabetes) \n"
      ],
      "execution_count": null,
      "outputs": []
    },
    {
      "cell_type": "code",
      "metadata": {
        "colab": {
          "base_uri": "https://localhost:8080/"
        },
        "id": "NjltTkv4wz82",
        "outputId": "c963dbbc-e607-439e-c572-a5a33880fe70"
      },
      "source": [
        "X_train = X.iloc[:600]\n",
        "X_test = X.iloc[600:]\n",
        "y_train = y[:600]\n",
        "y_test = y[600:]\n",
        "\n",
        "print(\"X_train Shape: \",X_train.shape)\n",
        "print(\"X_test Shape: \",X_test.shape)\n",
        "print(\"y_train Shape: \",y_train.shape)\n",
        "print(\"y_test Shape: \",y_test.shape)\n",
        "\n"
      ],
      "execution_count": null,
      "outputs": [
        {
          "output_type": "stream",
          "name": "stdout",
          "text": [
            "X_train Shape:  (600, 8)\n",
            "X_test Shape:  (168, 8)\n",
            "y_train Shape:  (600,)\n",
            "y_test Shape:  (168,)\n"
          ]
        }
      ]
    },
    {
      "cell_type": "code",
      "metadata": {
        "id": "cVR3HJgJw8ZG"
      },
      "source": [
        "# Normalizing the continuous variables \n",
        "from sklearn.preprocessing import MinMaxScaler\n",
        "\n",
        "scaler = MinMaxScaler()\n",
        "numerical = ['Qchat-10-Score', 'Age_Mons']\n",
        "\n",
        "features_minmax_transform = pd.DataFrame(data = data)\n",
        "features_minmax_transform[numerical] = scaler.fit_transform(data[numerical])\n",
        "features_minmax_transform\n",
        "# Show an example of a record with scaling applied\n",
        "display(features_minmax_transform.head(n = 5))\n",
        "\n",
        "## Convert target labels. Yes = 1 && No = 0\n",
        "data['Class/ASD Traits ']= data['Class/ASD Traits '].apply(lambda x: 1 if x == 'Yes' else 0)\n",
        "plt.hist(data['Class/ASD Traits '],bins=10)\n",
        "plt.xlim(0,1)\n",
        "plt.title('Histogram of Class/ASD')\n",
        "plt.xlabel('Class/ASD from processed data')\n",
        "plt.ylabel('Frequency')\n",
        "data.info()"
      ],
      "execution_count": null,
      "outputs": []
    },
    {
      "cell_type": "code",
      "metadata": {
        "id": "lFNN7495zYi8"
      },
      "source": [
        "#Spliting the dataset for modelling\n",
        "from sklearn.model_selection import train_test_split\n",
        "X_train, X_test, y_train, y_test = train_test_split(X,y,test_size=0.2)"
      ],
      "execution_count": null,
      "outputs": []
    },
    {
      "cell_type": "code",
      "metadata": {
        "id": "Vg4FpR35zfvV"
      },
      "source": [
        "import keras\n",
        "from keras.models import Sequential\n",
        "from keras.layers import Dense, Dropout, Activation"
      ],
      "execution_count": null,
      "outputs": []
    },
    {
      "cell_type": "code",
      "metadata": {
        "colab": {
          "base_uri": "https://localhost:8080/"
        },
        "id": "fr3oENnmzncE",
        "outputId": "f22226c9-d2ba-4815-db44-4186077408ae"
      },
      "source": [
        "\n",
        "\n",
        "# Building the model architecture with one layer of length 4\n",
        "\n",
        "\n",
        "model = Sequential()\n",
        "model.add(Dense(8, activation='relu', input_dim= 29))\n",
        "model.add(Dropout(0.2))\n",
        "model.add(Dense(1, kernel_initializer='normal', activation='sigmoid'))\n",
        "   \n",
        "    \n",
        "model.summary()\n",
        "\n"
      ],
      "execution_count": null,
      "outputs": [
        {
          "output_type": "stream",
          "name": "stdout",
          "text": [
            "Model: \"sequential_2\"\n",
            "_________________________________________________________________\n",
            " Layer (type)                Output Shape              Param #   \n",
            "=================================================================\n",
            " dense_4 (Dense)             (None, 8)                 240       \n",
            "                                                                 \n",
            " dropout_2 (Dropout)         (None, 8)                 0         \n",
            "                                                                 \n",
            " dense_5 (Dense)             (None, 1)                 9         \n",
            "                                                                 \n",
            "=================================================================\n",
            "Total params: 249\n",
            "Trainable params: 249\n",
            "Non-trainable params: 0\n",
            "_________________________________________________________________\n"
          ]
        }
      ]
    },
    {
      "cell_type": "code",
      "metadata": {
        "id": "_HBAU4alzvuG"
      },
      "source": [
        "# Compiling the model using categorical_crossentropy loss, and rmsprop optimizer.\n",
        "model.compile(loss='binary_crossentropy',\n",
        "              optimizer='rmsprop',\n",
        "              metrics=['accuracy'])"
      ],
      "execution_count": null,
      "outputs": []
    },
    {
      "cell_type": "code",
      "metadata": {
        "id": "D73gaaAfzzC7"
      },
      "source": [
        "# Running and evaluating the model\n",
        "hist = model.fit(X_train, y_train,\n",
        "          batch_size=16,\n",
        "          epochs=50,\n",
        "          validation_data=(X_test, y_test),\n",
        "          verbose=2)"
      ],
      "execution_count": null,
      "outputs": []
    },
    {
      "cell_type": "code",
      "metadata": {
        "id": "yrz78Mjz1DnU"
      },
      "source": [
        "# Evaluating the model on the training and testing set\n",
        "score_train = model.evaluate(X_train, y_train)\n",
        "print(\"\\n Training Accuracy:\", score_train)\n",
        "\n",
        "score_test = model.evaluate(X_test, y_test, verbose=0)\n",
        "print(\"\\n Testing accuracy: \", score_test)"
      ],
      "execution_count": null,
      "outputs": []
    },
    {
      "cell_type": "markdown",
      "metadata": {
        "id": "_gJV2cKqvPXx"
      },
      "source": [
        "# Train NNR using labelled data"
      ]
    },
    {
      "cell_type": "code",
      "metadata": {
        "id": "oIY9etpI2AK0"
      },
      "source": [
        "from keras.models import Sequential\n",
        "from keras.layers import Dense\n",
        "from sklearn import preprocessing\n",
        "import numpy as np\n",
        "from math import log"
      ],
      "execution_count": null,
      "outputs": []
    },
    {
      "cell_type": "code",
      "metadata": {
        "id": "uTvhNRF7C8xa"
      },
      "source": [
        "import keras\n",
        "from keras.models import Sequential\n",
        "from keras.layers import Dense, Dropout, Activation"
      ],
      "execution_count": null,
      "outputs": []
    },
    {
      "cell_type": "code",
      "metadata": {
        "colab": {
          "base_uri": "https://localhost:8080/"
        },
        "id": "WAuJEYRXCL8L",
        "outputId": "9c5bc34c-26cc-49c8-c49b-bdccc695c5c7"
      },
      "source": [
        "model = Sequential()\n",
        "model.add(Dense(8, activation='relu', input_dim= 29))\n",
        "model.add(Dropout(0.2))\n",
        "model.add(Dense(1, kernel_initializer='normal', activation='sigmoid'))\n",
        "   \n",
        "    \n",
        "model.summary()\n"
      ],
      "execution_count": null,
      "outputs": [
        {
          "output_type": "stream",
          "name": "stdout",
          "text": [
            "Model: \"sequential_3\"\n",
            "_________________________________________________________________\n",
            " Layer (type)                Output Shape              Param #   \n",
            "=================================================================\n",
            " dense_6 (Dense)             (None, 8)                 240       \n",
            "                                                                 \n",
            " dropout_3 (Dropout)         (None, 8)                 0         \n",
            "                                                                 \n",
            " dense_7 (Dense)             (None, 1)                 9         \n",
            "                                                                 \n",
            "=================================================================\n",
            "Total params: 249\n",
            "Trainable params: 249\n",
            "Non-trainable params: 0\n",
            "_________________________________________________________________\n"
          ]
        }
      ]
    },
    {
      "cell_type": "code",
      "metadata": {
        "id": "xvTkr0K7Dh9K"
      },
      "source": [
        "model.compile(loss='binary_crossentropy', optimizer='rmsprop', metrics=['accuracy'])\n",
        "\n",
        "\n",
        "             # model.compile(loss='binary_crossentropy', optimizer='sgd', metrics=['accuracy'])"
      ],
      "execution_count": null,
      "outputs": []
    },
    {
      "cell_type": "code",
      "metadata": {
        "colab": {
          "base_uri": "https://localhost:8080/"
        },
        "id": "IK4QKPaBFtTY",
        "outputId": "e0cd8351-afe6-404a-c900-249f2cafc370"
      },
      "source": [
        "# Running and evaluating the model\n",
        "hist = model.fit(X_train, y_train,\n",
        "          batch_size=16,\n",
        "          epochs=10,\n",
        "          validation_data=(X_test, y_test), \n",
        "          verbose=2)"
      ],
      "execution_count": null,
      "outputs": [
        {
          "output_type": "stream",
          "name": "stdout",
          "text": [
            "Epoch 1/10\n",
            "53/53 - 1s - loss: 0.6698 - accuracy: 0.6928 - val_loss: 0.6451 - val_accuracy: 0.7204\n",
            "Epoch 2/10\n",
            "53/53 - 0s - loss: 0.6247 - accuracy: 0.6975 - val_loss: 0.5911 - val_accuracy: 0.7204\n",
            "Epoch 3/10\n",
            "53/53 - 0s - loss: 0.5687 - accuracy: 0.7106 - val_loss: 0.5249 - val_accuracy: 0.7299\n",
            "Epoch 4/10\n",
            "53/53 - 0s - loss: 0.5032 - accuracy: 0.7284 - val_loss: 0.4651 - val_accuracy: 0.7536\n",
            "Epoch 5/10\n",
            "53/53 - 0s - loss: 0.4473 - accuracy: 0.7651 - val_loss: 0.4155 - val_accuracy: 0.7773\n",
            "Epoch 6/10\n",
            "53/53 - 0s - loss: 0.3947 - accuracy: 0.8197 - val_loss: 0.3718 - val_accuracy: 0.8199\n",
            "Epoch 7/10\n",
            "53/53 - 0s - loss: 0.3609 - accuracy: 0.8458 - val_loss: 0.3296 - val_accuracy: 0.8720\n",
            "Epoch 8/10\n",
            "53/53 - 0s - loss: 0.3073 - accuracy: 0.8802 - val_loss: 0.2935 - val_accuracy: 0.9052\n",
            "Epoch 9/10\n",
            "53/53 - 0s - loss: 0.2775 - accuracy: 0.8992 - val_loss: 0.2618 - val_accuracy: 0.9289\n",
            "Epoch 10/10\n",
            "53/53 - 0s - loss: 0.2452 - accuracy: 0.9110 - val_loss: 0.2354 - val_accuracy: 0.9384\n"
          ]
        }
      ]
    },
    {
      "cell_type": "markdown",
      "metadata": {
        "id": "6FeMJPIRvdTP"
      },
      "source": [
        "#Use the classifier to get the membership vector of each unlabelled sample"
      ]
    },
    {
      "cell_type": "code",
      "metadata": {
        "id": "St-C0O271TKT"
      },
      "source": [
        "membershipVectors = model.predict(X_test) # Membership Matrix"
      ],
      "execution_count": null,
      "outputs": []
    },
    {
      "cell_type": "code",
      "metadata": {
        "colab": {
          "base_uri": "https://localhost:8080/"
        },
        "id": "601-BHdv3IY0",
        "outputId": "5e164a59-9e80-4cdc-92a2-661d113dd89f"
      },
      "source": [
        "membershipVectors.shape"
      ],
      "execution_count": null,
      "outputs": [
        {
          "output_type": "execute_result",
          "data": {
            "text/plain": [
              "(211, 1)"
            ]
          },
          "metadata": {},
          "execution_count": 47
        }
      ]
    },
    {
      "cell_type": "code",
      "metadata": {
        "id": "adsp5u793L4E"
      },
      "source": [
        "binarizedLabels = (membershipVectors == membershipVectors.max(axis=1, keepdims=1)).astype(float)\n",
        "binarizedLabels = np.delete(binarizedLabels,0,1)"
      ],
      "execution_count": null,
      "outputs": []
    },
    {
      "cell_type": "markdown",
      "metadata": {
        "id": "Ww4aGld4vloL"
      },
      "source": [
        "# Calculate Fuzziness using the following equation:\n",
        "$F(V)=-\\frac{1}{n}\\sum_{i=1}^{n}(\\mu_{i}\\log\\mu_{i} + (1 - \\mu_{i})\\log(1 - \\mu_{i}))$"
      ]
    },
    {
      "cell_type": "code",
      "metadata": {
        "id": "8IhmABnz3Y6y"
      },
      "source": [
        "def F(V):\n",
        "    def inner(mu):\n",
        "        return (mu * log(mu, 2)) + ((1 - mu) * log(1 - mu, 2))\n",
        "    return - np.mean(list(map(inner, V)))\n",
        "\n",
        "fuzziness = np.array(list(map(F, membershipVectors)))"
      ],
      "execution_count": null,
      "outputs": []
    },
    {
      "cell_type": "code",
      "metadata": {
        "colab": {
          "base_uri": "https://localhost:8080/"
        },
        "id": "ObQYqSJE3cbn",
        "outputId": "db48d36b-6455-438e-8409-c7ae7402e9ef"
      },
      "source": [
        "print(fuzziness[0])"
      ],
      "execution_count": null,
      "outputs": [
        {
          "output_type": "stream",
          "name": "stdout",
          "text": [
            "0.9006335426902305\n"
          ]
        }
      ]
    },
    {
      "cell_type": "markdown",
      "metadata": {
        "id": "SX3pEyuovvoE"
      },
      "source": [
        "# Add samples with low and high fuzziness to the training set"
      ]
    },
    {
      "cell_type": "code",
      "metadata": {
        "id": "Akkeqi8W3gLM"
      },
      "source": [
        "lowFuzzinessIndices = np.append(np.where( fuzziness >= 0.95), np.where( fuzziness <= 0.05 ) )\n",
        "highFuzzinessIndices = np.logical_and(fuzziness >= 0.45, fuzziness <= 0.52)\n",
        "\n",
        "# Fuzziness values >= 5/6\n",
        "lowFuzzinessGroup = X_test.iloc[ lowFuzzinessIndices ]\n",
        "lowFuzzinessLabels = binarizedLabels[ lowFuzzinessIndices ].squeeze()\n",
        "\n",
        "# Fuzziness values 2/6 <= x <= 2/3\n",
        "highFuzzinessGroup = X_test.iloc[ highFuzzinessIndices ]\n",
        "highFuzzinessLabels = binarizedLabels[ highFuzzinessIndices ].squeeze()\n",
        "\n",
        "# Append new samples to training set\n",
        "#train_set_x = np.concatenate((x_train,lowFuzzinessGroup, highFuzzinessGroup), axis=0)\n",
        "\n",
        "#train_set_y = np.concatenate((y_train,lowFuzzinessLabels, highFuzzinessLabels), axis=0)"
      ],
      "execution_count": null,
      "outputs": []
    },
    {
      "cell_type": "code",
      "metadata": {
        "id": "osuaB54p4AF-"
      },
      "source": [
        "# Append new samples to training set\n",
        "#X_train = np.concatenate((X_train,lowFuzzinessGroup, highFuzzinessGroup), axis=1)\n",
        "\n",
        "#y_train = np.concatenate((y_train,lowFuzzinessLabels, highFuzzinessLabels), axis=1)"
      ],
      "execution_count": null,
      "outputs": []
    },
    {
      "cell_type": "markdown",
      "metadata": {
        "id": "khrIXxGTv4W4"
      },
      "source": [
        "# Retrain the classifier with the new training set"
      ]
    },
    {
      "cell_type": "code",
      "metadata": {
        "colab": {
          "base_uri": "https://localhost:8080/"
        },
        "id": "RBW8NKmZIf7n",
        "outputId": "84631fb1-ae38-45e1-a864-566a2e167284"
      },
      "source": [
        "# Evaluating the model on the training and testing set\n",
        "score_train = model.evaluate(X_train, y_train)\n",
        "print(\"\\n Training Accuracy:\", score_train)\n",
        "\n",
        "score_test = model.evaluate(X_test, y_test, verbose=0)\n",
        "print(\"\\n Testing accuracy: \", score_test)"
      ],
      "execution_count": null,
      "outputs": [
        {
          "output_type": "stream",
          "name": "stdout",
          "text": [
            "27/27 [==============================] - 0s 1ms/step - loss: 0.2013 - accuracy: 0.9431\n",
            "\n",
            " Training Accuracy: [0.2013450413942337, 0.9430605173110962]\n",
            "\n",
            " Testing accuracy:  [0.2353857457637787, 0.9383886456489563]\n"
          ]
        }
      ]
    },
    {
      "cell_type": "markdown",
      "metadata": {
        "id": "zvg41cAqwCmy"
      },
      "source": [
        "# Evaluation"
      ]
    },
    {
      "cell_type": "code",
      "metadata": {
        "colab": {
          "base_uri": "https://localhost:8080/"
        },
        "id": "u_ZnqZynTitl",
        "outputId": "49fac697-a175-42a8-8d00-d572cbbe4422"
      },
      "source": [
        "score = model.evaluate(X_test, y_test)"
      ],
      "execution_count": null,
      "outputs": [
        {
          "output_type": "stream",
          "name": "stdout",
          "text": [
            "7/7 [==============================] - 0s 3ms/step - loss: 0.2354 - accuracy: 0.9384\n"
          ]
        }
      ]
    },
    {
      "cell_type": "code",
      "metadata": {
        "colab": {
          "base_uri": "https://localhost:8080/"
        },
        "id": "Q5uocMnVTWjd",
        "outputId": "35fe48b6-ac92-48e1-a80e-f8597f7b4cd4"
      },
      "source": [
        "print(\"Final Accuracy: \", score[1])"
      ],
      "execution_count": null,
      "outputs": [
        {
          "output_type": "stream",
          "name": "stdout",
          "text": [
            "Final Accuracy:  0.9383886456489563\n"
          ]
        }
      ]
    },
    {
      "cell_type": "markdown",
      "metadata": {
        "id": "Woan3WcGwMSj"
      },
      "source": [
        "# Fuzzy MinMax Classifier"
      ]
    },
    {
      "cell_type": "code",
      "metadata": {
        "colab": {
          "base_uri": "https://localhost:8080/"
        },
        "id": "D6oMc0jJl-H3",
        "outputId": "7dcf608b-2775-4594-f000-918bb3a38b67"
      },
      "source": [
        "!git clone https://github.com/Cartmanishere/fuzzy-min-max-classifier.git"
      ],
      "execution_count": null,
      "outputs": [
        {
          "output_type": "stream",
          "name": "stdout",
          "text": [
            "Cloning into 'fuzzy-min-max-classifier'...\n",
            "remote: Enumerating objects: 29, done.\u001b[K\n",
            "remote: Total 29 (delta 0), reused 0 (delta 0), pack-reused 29\u001b[K\n",
            "Unpacking objects: 100% (29/29), done.\n"
          ]
        }
      ]
    },
    {
      "cell_type": "code",
      "metadata": {
        "colab": {
          "base_uri": "https://localhost:8080/"
        },
        "id": "BDgES31PmCsw",
        "outputId": "824ccf80-db34-48b3-e8ce-7b5a001be4d5"
      },
      "source": [
        "%cd /content/fuzzy-min-max-classifier"
      ],
      "execution_count": null,
      "outputs": [
        {
          "output_type": "stream",
          "name": "stdout",
          "text": [
            "/content/fuzzy-min-max-classifier\n"
          ]
        }
      ]
    },
    {
      "cell_type": "code",
      "metadata": {
        "id": "K4xL_YgwnKq1"
      },
      "source": [
        "from fuzzy import *\n",
        "import matplotlib.pyplot as plt\n",
        "import pandas as pd\n",
        "import math\n",
        "import random"
      ],
      "execution_count": null,
      "outputs": []
    },
    {
      "cell_type": "code",
      "metadata": {
        "id": "sKKutJd0n2Bj"
      },
      "source": [
        "X = data.drop(['Class/ASD Traits '],1)\n",
        "y = data['Class/ASD Traits ']"
      ],
      "execution_count": null,
      "outputs": []
    },
    {
      "cell_type": "code",
      "metadata": {
        "id": "ywEhdpGXnsXh"
      },
      "source": [
        "#Spliting the dataset for modelling\n",
        "from sklearn.model_selection import train_test_split\n",
        "X_train, X_test, y_train, y_test = train_test_split(X,y,test_size=0.2)"
      ],
      "execution_count": null,
      "outputs": []
    },
    {
      "cell_type": "code",
      "metadata": {
        "id": "i_b0zV_WnO5o"
      },
      "source": [
        "from sklearn.preprocessing import MinMaxScaler,StandardScaler\n",
        "# Instantiate MinMaxScaler and use it to rescale X_train and X_test\n",
        "scaler = MinMaxScaler(feature_range=(0,1))\n",
        "rescaledX_train = scaler.fit_transform(X_train)\n",
        "rescaledX_test = scaler.fit_transform(X_test)\n",
        "#rescaledX_unlabel = scaler.fit_transform(unlabel_x)\n",
        "\n",
        "print(rescaledX_train.shape)\n",
        "print(rescaledX_test.shape)\n",
        "#print(rescaledX_unlabel.shape)"
      ],
      "execution_count": null,
      "outputs": []
    },
    {
      "cell_type": "code",
      "metadata": {
        "id": "87_gRfgcp5OB"
      },
      "source": [
        "fuz = FuzzyMMC(sensitivity=1, exp_bound=0.1, animate=False)\n",
        "fuz.fit(rescaledX_train, y_train)\n"
      ],
      "execution_count": null,
      "outputs": []
    },
    {
      "cell_type": "code",
      "metadata": {
        "colab": {
          "base_uri": "https://localhost:8080/"
        },
        "id": "Q2K2r_fMqlSb",
        "outputId": "2178c491-a93e-4a06-e952-c437c2fef98e"
      },
      "source": [
        "accuracy = fuz.score(rescaledX_test, y_test)*100\n",
        "print(accuracy)"
      ],
      "execution_count": null,
      "outputs": [
        {
          "output_type": "stream",
          "name": "stdout",
          "text": [
            "91.4691943127962\n"
          ]
        }
      ]
    }
  ]
}